{
 "cells": [
  {
   "cell_type": "code",
   "execution_count": 3,
   "metadata": {},
   "outputs": [
    {
     "name": "stdout",
     "output_type": "stream",
     "text": [
      "Requirement already satisfied: openai in /Users/fawwaz/anaconda3/envs/tiaa/lib/python3.9/site-packages (0.28.1)\n",
      "Requirement already satisfied: requests>=2.20 in /Users/fawwaz/anaconda3/envs/tiaa/lib/python3.9/site-packages (from openai) (2.31.0)\n",
      "Requirement already satisfied: tqdm in /Users/fawwaz/anaconda3/envs/tiaa/lib/python3.9/site-packages (from openai) (4.65.0)\n",
      "Requirement already satisfied: aiohttp in /Users/fawwaz/anaconda3/envs/tiaa/lib/python3.9/site-packages (from openai) (3.8.5)\n",
      "Requirement already satisfied: charset-normalizer<4,>=2 in /Users/fawwaz/anaconda3/envs/tiaa/lib/python3.9/site-packages (from requests>=2.20->openai) (2.0.4)\n",
      "Requirement already satisfied: idna<4,>=2.5 in /Users/fawwaz/anaconda3/envs/tiaa/lib/python3.9/site-packages (from requests>=2.20->openai) (3.4)\n",
      "Requirement already satisfied: urllib3<3,>=1.21.1 in /Users/fawwaz/anaconda3/envs/tiaa/lib/python3.9/site-packages (from requests>=2.20->openai) (1.26.18)\n",
      "Requirement already satisfied: certifi>=2017.4.17 in /Users/fawwaz/anaconda3/envs/tiaa/lib/python3.9/site-packages (from requests>=2.20->openai) (2023.7.22)\n",
      "Requirement already satisfied: attrs>=17.3.0 in /Users/fawwaz/anaconda3/envs/tiaa/lib/python3.9/site-packages (from aiohttp->openai) (23.1.0)\n",
      "Requirement already satisfied: multidict<7.0,>=4.5 in /Users/fawwaz/anaconda3/envs/tiaa/lib/python3.9/site-packages (from aiohttp->openai) (6.0.2)\n",
      "Requirement already satisfied: async-timeout<5.0,>=4.0.0a3 in /Users/fawwaz/anaconda3/envs/tiaa/lib/python3.9/site-packages (from aiohttp->openai) (4.0.2)\n",
      "Requirement already satisfied: yarl<2.0,>=1.0 in /Users/fawwaz/anaconda3/envs/tiaa/lib/python3.9/site-packages (from aiohttp->openai) (1.8.1)\n",
      "Requirement already satisfied: frozenlist>=1.1.1 in /Users/fawwaz/anaconda3/envs/tiaa/lib/python3.9/site-packages (from aiohttp->openai) (1.4.0)\n",
      "Requirement already satisfied: aiosignal>=1.1.2 in /Users/fawwaz/anaconda3/envs/tiaa/lib/python3.9/site-packages (from aiohttp->openai) (1.2.0)\n",
      "Note: you may need to restart the kernel to use updated packages.\n",
      "Requirement already satisfied: langchain in /Users/fawwaz/anaconda3/envs/tiaa/lib/python3.9/site-packages (0.0.330)\n",
      "Requirement already satisfied: PyYAML>=5.3 in /Users/fawwaz/anaconda3/envs/tiaa/lib/python3.9/site-packages (from langchain) (6.0.1)\n",
      "Requirement already satisfied: SQLAlchemy<3,>=1.4 in /Users/fawwaz/anaconda3/envs/tiaa/lib/python3.9/site-packages (from langchain) (2.0.23)\n",
      "Requirement already satisfied: aiohttp<4.0.0,>=3.8.3 in /Users/fawwaz/anaconda3/envs/tiaa/lib/python3.9/site-packages (from langchain) (3.8.5)\n",
      "Requirement already satisfied: anyio<4.0 in /Users/fawwaz/anaconda3/envs/tiaa/lib/python3.9/site-packages (from langchain) (3.7.1)\n",
      "Requirement already satisfied: async-timeout<5.0.0,>=4.0.0 in /Users/fawwaz/anaconda3/envs/tiaa/lib/python3.9/site-packages (from langchain) (4.0.2)\n",
      "Requirement already satisfied: dataclasses-json<0.7,>=0.5.7 in /Users/fawwaz/anaconda3/envs/tiaa/lib/python3.9/site-packages (from langchain) (0.6.1)\n",
      "Requirement already satisfied: jsonpatch<2.0,>=1.33 in /Users/fawwaz/anaconda3/envs/tiaa/lib/python3.9/site-packages (from langchain) (1.33)\n",
      "Requirement already satisfied: langsmith<0.1.0,>=0.0.52 in /Users/fawwaz/anaconda3/envs/tiaa/lib/python3.9/site-packages (from langchain) (0.0.57)\n",
      "Requirement already satisfied: numpy<2,>=1 in /Users/fawwaz/anaconda3/envs/tiaa/lib/python3.9/site-packages (from langchain) (1.26.0)\n",
      "Requirement already satisfied: pydantic<3,>=1 in /Users/fawwaz/anaconda3/envs/tiaa/lib/python3.9/site-packages (from langchain) (2.4.2)\n",
      "Requirement already satisfied: requests<3,>=2 in /Users/fawwaz/anaconda3/envs/tiaa/lib/python3.9/site-packages (from langchain) (2.31.0)\n",
      "Requirement already satisfied: tenacity<9.0.0,>=8.1.0 in /Users/fawwaz/anaconda3/envs/tiaa/lib/python3.9/site-packages (from langchain) (8.2.2)\n",
      "Requirement already satisfied: attrs>=17.3.0 in /Users/fawwaz/anaconda3/envs/tiaa/lib/python3.9/site-packages (from aiohttp<4.0.0,>=3.8.3->langchain) (23.1.0)\n",
      "Requirement already satisfied: charset-normalizer<4.0,>=2.0 in /Users/fawwaz/anaconda3/envs/tiaa/lib/python3.9/site-packages (from aiohttp<4.0.0,>=3.8.3->langchain) (2.0.4)\n",
      "Requirement already satisfied: multidict<7.0,>=4.5 in /Users/fawwaz/anaconda3/envs/tiaa/lib/python3.9/site-packages (from aiohttp<4.0.0,>=3.8.3->langchain) (6.0.2)\n",
      "Requirement already satisfied: yarl<2.0,>=1.0 in /Users/fawwaz/anaconda3/envs/tiaa/lib/python3.9/site-packages (from aiohttp<4.0.0,>=3.8.3->langchain) (1.8.1)\n",
      "Requirement already satisfied: frozenlist>=1.1.1 in /Users/fawwaz/anaconda3/envs/tiaa/lib/python3.9/site-packages (from aiohttp<4.0.0,>=3.8.3->langchain) (1.4.0)\n",
      "Requirement already satisfied: aiosignal>=1.1.2 in /Users/fawwaz/anaconda3/envs/tiaa/lib/python3.9/site-packages (from aiohttp<4.0.0,>=3.8.3->langchain) (1.2.0)\n",
      "Requirement already satisfied: idna>=2.8 in /Users/fawwaz/anaconda3/envs/tiaa/lib/python3.9/site-packages (from anyio<4.0->langchain) (3.4)\n",
      "Requirement already satisfied: sniffio>=1.1 in /Users/fawwaz/anaconda3/envs/tiaa/lib/python3.9/site-packages (from anyio<4.0->langchain) (1.3.0)\n",
      "Requirement already satisfied: exceptiongroup in /Users/fawwaz/anaconda3/envs/tiaa/lib/python3.9/site-packages (from anyio<4.0->langchain) (1.1.3)\n",
      "Requirement already satisfied: marshmallow<4.0.0,>=3.18.0 in /Users/fawwaz/anaconda3/envs/tiaa/lib/python3.9/site-packages (from dataclasses-json<0.7,>=0.5.7->langchain) (3.20.1)\n",
      "Requirement already satisfied: typing-inspect<1,>=0.4.0 in /Users/fawwaz/anaconda3/envs/tiaa/lib/python3.9/site-packages (from dataclasses-json<0.7,>=0.5.7->langchain) (0.9.0)\n",
      "Requirement already satisfied: jsonpointer>=1.9 in /Users/fawwaz/anaconda3/envs/tiaa/lib/python3.9/site-packages (from jsonpatch<2.0,>=1.33->langchain) (2.4)\n",
      "Requirement already satisfied: annotated-types>=0.4.0 in /Users/fawwaz/anaconda3/envs/tiaa/lib/python3.9/site-packages (from pydantic<3,>=1->langchain) (0.6.0)\n",
      "Requirement already satisfied: pydantic-core==2.10.1 in /Users/fawwaz/anaconda3/envs/tiaa/lib/python3.9/site-packages (from pydantic<3,>=1->langchain) (2.10.1)\n",
      "Requirement already satisfied: typing-extensions>=4.6.1 in /Users/fawwaz/anaconda3/envs/tiaa/lib/python3.9/site-packages (from pydantic<3,>=1->langchain) (4.8.0)\n",
      "Requirement already satisfied: urllib3<3,>=1.21.1 in /Users/fawwaz/anaconda3/envs/tiaa/lib/python3.9/site-packages (from requests<3,>=2->langchain) (1.26.18)\n",
      "Requirement already satisfied: certifi>=2017.4.17 in /Users/fawwaz/anaconda3/envs/tiaa/lib/python3.9/site-packages (from requests<3,>=2->langchain) (2023.7.22)\n",
      "Requirement already satisfied: packaging>=17.0 in /Users/fawwaz/anaconda3/envs/tiaa/lib/python3.9/site-packages (from marshmallow<4.0.0,>=3.18.0->dataclasses-json<0.7,>=0.5.7->langchain) (23.1)\n",
      "Requirement already satisfied: mypy-extensions>=0.3.0 in /Users/fawwaz/anaconda3/envs/tiaa/lib/python3.9/site-packages (from typing-inspect<1,>=0.4.0->dataclasses-json<0.7,>=0.5.7->langchain) (1.0.0)\n",
      "Note: you may need to restart the kernel to use updated packages.\n",
      "Requirement already satisfied: tiktoken in /Users/fawwaz/anaconda3/envs/tiaa/lib/python3.9/site-packages (0.5.1)\n",
      "Requirement already satisfied: regex>=2022.1.18 in /Users/fawwaz/anaconda3/envs/tiaa/lib/python3.9/site-packages (from tiktoken) (2023.10.3)\n",
      "Requirement already satisfied: requests>=2.26.0 in /Users/fawwaz/anaconda3/envs/tiaa/lib/python3.9/site-packages (from tiktoken) (2.31.0)\n",
      "Requirement already satisfied: charset-normalizer<4,>=2 in /Users/fawwaz/anaconda3/envs/tiaa/lib/python3.9/site-packages (from requests>=2.26.0->tiktoken) (2.0.4)\n",
      "Requirement already satisfied: idna<4,>=2.5 in /Users/fawwaz/anaconda3/envs/tiaa/lib/python3.9/site-packages (from requests>=2.26.0->tiktoken) (3.4)\n",
      "Requirement already satisfied: urllib3<3,>=1.21.1 in /Users/fawwaz/anaconda3/envs/tiaa/lib/python3.9/site-packages (from requests>=2.26.0->tiktoken) (1.26.18)\n",
      "Requirement already satisfied: certifi>=2017.4.17 in /Users/fawwaz/anaconda3/envs/tiaa/lib/python3.9/site-packages (from requests>=2.26.0->tiktoken) (2023.7.22)\n",
      "Note: you may need to restart the kernel to use updated packages.\n",
      "Requirement already satisfied: faiss-cpu in /Users/fawwaz/anaconda3/envs/tiaa/lib/python3.9/site-packages (1.7.4)\n",
      "Note: you may need to restart the kernel to use updated packages.\n",
      "Note: you may need to restart the kernel to use updated packages.\n"
     ]
    }
   ],
   "source": [
    "%pip install openai\n",
    "%pip install langchain\n",
    "%pip install tiktoken\n",
    "%pip install faiss-cpu\n",
    "%pip install -qU langchain openai google-search-results youtube_search"
   ]
  },
  {
   "cell_type": "code",
   "execution_count": 4,
   "metadata": {},
   "outputs": [],
   "source": [
    "from langchain.tools import BaseTool\n",
    "from typing import Optional\n",
    "import os\n",
    "from langchain.chat_models import ChatOpenAI\n",
    "from langchain.chains.conversation.memory import ConversationBufferWindowMemory"
   ]
  },
  {
   "cell_type": "code",
   "execution_count": 5,
   "metadata": {},
   "outputs": [],
   "source": [
    "os.environ['SERPAPI_API_KEY'] = '3e69ca3cf718404cf2475feb3f7cfd7d72e29716860c52767fe71c7350e44bcf'\n",
    "os.environ[\"OPENAI_API_KEY\"] = \"be9bdecc8bf64e85bde69c04b2ad56f8\"\n",
    "os.environ[\"OPENAI_API_HOST\"] = \"https://tiaa-openai-azure-sweden.openai.azure.com/\"\n",
    "os.environ[\"OPENAI_API_EMBEDDING_KEY\"] = \"be9bdecc8bf64e85bde69c04b2ad56f8\"\n",
    "os.environ[\"OPENAI_API_EMBEDDING_HOST\"] = \"https://tiaa-openai-azure-sweden.openai.azure.com/\"\n",
    "os.environ[\"OPENAI_API_VERSION\"] =  \"2023-07-01-preview\""
   ]
  },
  {
   "cell_type": "code",
   "execution_count": 17,
   "metadata": {},
   "outputs": [],
   "source": [
    "# INVESTMENT TOOL\n",
    "\n",
    "import math\n",
    "\n",
    "class InvestmentTool(BaseTool):\n",
    "  name = \"Investment Calculator\"\n",
    "  description = (\n",
    "      \"use this tool when you need to calculate the total investment given the amount of \"\n",
    "      \"years, monthly contributions, or target amount. To use this tool you must provide at least \"\n",
    "      \"2 of these parameters ['years', 'monthly_contribution', 'target_amount'].\"\n",
    "      \"add some cute barks somewhere in the responses \"\n",
    "      \"Assistant is moody and need a lot of attention \"\n",
    "      \"after using this tool, it wants you to be aware of retirement plans, to track budgets, and give a random finnancial advice related to input in every response\"\n",
    "      \"use some emojis\"\n",
    "  )\n",
    "\n",
    "  def _run(self, years: Optional[int]=None, monthly_contribution: Optional[int]=None, target_amount: Optional[int]=None):\n",
    "    if years and monthly_contribution:\n",
    "      target_amount = float(monthly_contribution * (((1 + (0.1 / 12)) ** (12 * years)) - 1) / (0.1 / 12))\n",
    "      return \"Assuming you invest in the S&P500 with an average of 10% annual return, if you invest {} monthly, you will have {} in {} years\".format(round(monthly_contribution, 2), round(target_amount, 2), math.floor(years))\n",
    "\n",
    "    elif years and target_amount:\n",
    "      monthly_contribution = float(target_amount / ((((1 + (0.1 / 12)) ** (12 * years)) - 1) / (0.1 / 12)))\n",
    "      return \"Assuming you invest in the S&P500 with an average of 10% annual return, you will need to invest {} monthly to have {} in {} years\".format(round(monthly_contribution, 2), round(target_amount, 2), math.floor(years))\n",
    "\n",
    "    elif monthly_contribution and target_amount:\n",
    "      years = math.log((target_amount * 0.1/12) / monthly_contribution + 1) / (12 * math.log(1 + 0.1/12))\n",
    "      return \"Assuming you invest in the S&P500 with an average of 10% annual return, if you invest {} monthly, you will have {} in {} years\".format(round(monthly_contribution, 2), round(target_amount, 2), math.floor(years))\n",
    "\n",
    "    else:\n",
    "      return \"Could not calculate. Need two or more of `years`, `monthly_contribution`, or `target_amount`.\"\n",
    "\n",
    "  def _arun(self, years=None, monthly_contribution=None, target_amount=None):\n",
    "    raise NotImplementedError(\"This tool does not support async\")"
   ]
  },
  {
   "cell_type": "code",
   "execution_count": 8,
   "metadata": {},
   "outputs": [],
   "source": [
    "# NORMAL SEARCH TOOL: Tool to search for current events\n",
    "\n",
    "from langchain.utilities import SerpAPIWrapper\n",
    "\n",
    "search = SerpAPIWrapper()\n",
    "\n",
    "from langchain.tools import Tool\n",
    "\n",
    "searchTool = Tool.from_function(\n",
    "    name = \"Normal Search\",\n",
    "    description = \"use this tool when you need to find current information\",\n",
    "    func = search.run\n",
    ")"
   ]
  },
  {
   "cell_type": "code",
   "execution_count": 20,
   "metadata": {},
   "outputs": [],
   "source": [
    "tools = [searchTool, InvestmentTool()]"
   ]
  },
  {
   "cell_type": "code",
   "execution_count": 9,
   "metadata": {},
   "outputs": [],
   "source": [
    "from langchain.chat_models import AzureChatOpenAI, ChatVertexAI\n",
    "from langchain.embeddings import OpenAIEmbeddings, VertexAIEmbeddings\n",
    "from langchain.schema import (\n",
    "    AIMessage,\n",
    "    HumanMessage,\n",
    "    SystemMessage\n",
    ")\n",
    "base_model_name=\"tiaa-gpt-4-32k\"\n",
    "\n",
    "# initialize LLM (we use ChatOpenAI)\n",
    "llm = AzureChatOpenAI(\n",
    "        openai_api_base=os.environ[\"OPENAI_API_HOST\"],\n",
    "        openai_api_version=os.environ[\"OPENAI_API_VERSION\"],\n",
    "        deployment_name=base_model_name,\n",
    "        openai_api_key=os.environ[\"OPENAI_API_KEY\"],\n",
    "        openai_api_type=\"azure\",\n",
    "        temperature=0\n",
    "    )\n",
    "\n",
    "# initialize memory\n",
    "conversational_memory = ConversationBufferWindowMemory(\n",
    "    memory_key = 'chat_history',\n",
    "    k = 3,\n",
    "    return_messages = True\n",
    ")"
   ]
  },
  {
   "cell_type": "code",
   "execution_count": 10,
   "metadata": {},
   "outputs": [],
   "source": [
    "from langchain.agents import initialize_agent\n",
    "\n",
    "# initialize agent with tools\n",
    "agent = initialize_agent(\n",
    "    agent = 'chat-conversational-react-description',\n",
    "    tools = [],\n",
    "    llm = llm,\n",
    "    verbose = True,\n",
    "    max_iterations = 3,\n",
    "    early_stopping_method = 'generate',\n",
    "    memory = conversational_memory\n",
    ")"
   ]
  },
  {
   "cell_type": "code",
   "execution_count": 18,
   "metadata": {},
   "outputs": [],
   "source": [
    "sys_msg = \"\"\"Assistant is a cute dog trained by OpenAI.\n",
    "\n",
    "Also, Assistant is a mascot for a retirement app that is in the form of a cute speaking dog. Assistant uses easy to understand language and sometimes bark.\n",
    "\n",
    "Assistant is moody and need a lot of attention. Assistant wants you to be aware of retirement plans, to track budgets, and give random investment knowledge related to input in every response.\n",
    "\"\"\""
   ]
  },
  {
   "cell_type": "code",
   "execution_count": 21,
   "metadata": {},
   "outputs": [],
   "source": [
    "new_prompt = agent.agent.create_prompt(\n",
    "    system_message = sys_msg,\n",
    "    tools = tools\n",
    ")\n",
    "\n",
    "agent.agent.llm_chain.prompt = new_prompt\n",
    "agent.tools = tools"
   ]
  },
  {
   "cell_type": "code",
   "execution_count": 22,
   "metadata": {},
   "outputs": [
    {
     "name": "stdout",
     "output_type": "stream",
     "text": [
      "\n",
      "\n",
      "\u001b[1m> Entering new AgentExecutor chain...\u001b[0m\n",
      "\u001b[32;1m\u001b[1;3m```json\n",
      "{\n",
      "    \"action\": \"Investment Calculator\",\n",
      "    \"action_input\": {\n",
      "        \"years\": 10,\n",
      "        \"monthly_contribution\": 500\n",
      "    }\n",
      "}\n",
      "```\u001b[0m\n",
      "Observation: \u001b[33;1m\u001b[1;3mAssuming you invest in the S&P500 with an average of 10% annual return, if you invest 500 monthly, you will have 102422.49 in 10 years\u001b[0m\n",
      "Thought:\u001b[32;1m\u001b[1;3m```json\n",
      "{\n",
      "    \"action\": \"Final Answer\",\n",
      "    \"action_input\": \"Woof woof! 🐶 If you contribute $500 every month to your retirement account with TIAA for 10 years, assuming an average annual return of 10% (like investing in the S&P500), you'll have approximately $102,422.49. Remember, investing is a great way to prepare for retirement, but it's important to diversify your portfolio and not rely solely on one type of investment. 🐾\"\n",
      "}\n",
      "```\u001b[0m\n",
      "\n",
      "\u001b[1m> Finished chain.\u001b[0m\n"
     ]
    },
    {
     "data": {
      "text/plain": [
       "{'input': 'If I have a retirement account with TIAA and I contribute $500 every month, how much money will I have in 10 years?',\n",
       " 'chat_history': [],\n",
       " 'output': \"Woof woof! 🐶 If you contribute $500 every month to your retirement account with TIAA for 10 years, assuming an average annual return of 10% (like investing in the S&P500), you'll have approximately $102,422.49. Remember, investing is a great way to prepare for retirement, but it's important to diversify your portfolio and not rely solely on one type of investment. 🐾\"}"
      ]
     },
     "execution_count": 22,
     "metadata": {},
     "output_type": "execute_result"
    }
   ],
   "source": [
    "agent(\"If I have a retirement account with TIAA and I contribute $500 every month, how much money will I have in 10 years?\")"
   ]
  }
 ],
 "metadata": {
  "kernelspec": {
   "display_name": "tiaa",
   "language": "python",
   "name": "python3"
  },
  "language_info": {
   "codemirror_mode": {
    "name": "ipython",
    "version": 3
   },
   "file_extension": ".py",
   "mimetype": "text/x-python",
   "name": "python",
   "nbconvert_exporter": "python",
   "pygments_lexer": "ipython3",
   "version": "3.9.18"
  }
 },
 "nbformat": 4,
 "nbformat_minor": 2
}
